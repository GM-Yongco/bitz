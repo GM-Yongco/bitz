{
 "cells": [
  {
   "cell_type": "markdown",
   "id": "48f6f110-2612-4e8e-8a60-978b404896db",
   "metadata": {},
   "source": [
    "# DETCTING AND DONWLOADING LATEST/PREVIOUS EN CHAPTER\n",
    "Preferrably on release"
   ]
  },
  {
   "cell_type": "code",
   "execution_count": 1,
   "id": "9398d16d-da1f-44f8-ada2-b8bb4eaf996d",
   "metadata": {},
   "outputs": [],
   "source": [
    "# Author\t\t\t\t: G.M. Yongco #BeSomeoneWhoCanStandByShinomiya\n",
    "# Date\t\t\t\t\t: ur my date uwu\n",
    "# Description\t\t\t: Code that will impress u ;)\n",
    "# Actual Description\t: captures the manga list, filters, sorts, then downloads manga\n",
    "# Reference\t\t\t\t: https://api.mangadex.org/docs/"
   ]
  },
  {
   "cell_type": "markdown",
   "id": "4d722832-5e77-4615-be72-6dab6946ba9c",
   "metadata": {
    "jp-MarkdownHeadingCollapsed": true
   },
   "source": [
    "## Imports we will be using and utility functions that are used in other functions"
   ]
  },
  {
   "cell_type": "code",
   "execution_count": 2,
   "id": "49115b17",
   "metadata": {},
   "outputs": [],
   "source": [
    "import requests\n",
    "import json\n",
    "import os\n",
    "\n",
    "def write_json(file_name:str = \"template_json.text\", content = \"{'template':'true'}\") -> bool:\n",
    "    try:\n",
    "        with open(file_name, \"w\", encoding=\"utf-8\") as f:\n",
    "            json.dump(content, f, indent=4, ensure_ascii=False)\n",
    "        return True\n",
    "    except Exception as e:\n",
    "        print(e)\n",
    "        return False\n"
   ]
  },
  {
   "cell_type": "markdown",
   "id": "e6e512d8",
   "metadata": {},
   "source": [
    "### Functions to get the chapter list of a certain manga"
   ]
  },
  {
   "cell_type": "code",
   "execution_count": 3,
   "id": "1a3f17a2",
   "metadata": {},
   "outputs": [],
   "source": [
    "def get_general_info(manga_title:str = \"The Guy She Was Interested in Wasn't a Guy at All\") -> dict:\n",
    "    base_url = \"https://api.mangadex.org\"\n",
    "\n",
    "    response:json = requests.get(\n",
    "        url = f\"{base_url}/manga\",\n",
    "        params={\"title\": manga_title}\n",
    "    ).json()\n",
    "\n",
    "    with open(\"get_general_info.txt\", \"w\", encoding=\"utf-8\") as f:\n",
    "        json.dump(response, f, indent=4, ensure_ascii=False)\n",
    "\n",
    "    return response\n",
    "\n",
    "def get_chapters(manga_title:str = \"The Guy She Was Interested in Wasn't a Guy at All\") -> dict:\n",
    "    base_url = \"https://api.mangadex.org\"\n",
    "    manga_id = get_general_info(manga_title=manga_title)['data'][0]['id']\n",
    "    languages = [\"en\"]\n",
    "    \n",
    "    response:json = requests.get(\n",
    "        url = f\"{base_url}/manga/{manga_id}/feed\",\n",
    "        params={\"translatedLanguage[]\": languages, \n",
    "                \"limit\": 200}\n",
    "    ).json()\n",
    "\n",
    "    if response['result'] == \"ok\":\n",
    "        print(\"function - success - get_chapters()\")\n",
    "    else:\n",
    "        print(\"function - fail - get_chapters()\")\n",
    "\n",
    "    return response"
   ]
  },
  {
   "cell_type": "markdown",
   "id": "1b23d626-ca91-4c50-a058-d2a96776a759",
   "metadata": {
    "jp-MarkdownHeadingCollapsed": true
   },
   "source": [
    "## Now we put the output in a text file for humans to check"
   ]
  },
  {
   "cell_type": "code",
   "execution_count": 4,
   "id": "05ff6af7",
   "metadata": {},
   "outputs": [
    {
     "name": "stdout",
     "output_type": "stream",
     "text": [
      "function - success - get_chapters()\n",
      "True\n"
     ]
    }
   ],
   "source": [
    "# chapters:list = get_chapters(\"Amasaya\")\n",
    "chapters:list = get_chapters()\n",
    "print(write_json(file_name = \"get_chapters_response.txt\", content = chapters))"
   ]
  },
  {
   "cell_type": "markdown",
   "id": "0a4ed8ea-b595-4770-b373-6e5a7706a71a",
   "metadata": {},
   "source": [
    "### Formatting"
   ]
  },
  {
   "cell_type": "code",
   "execution_count": 5,
   "id": "368b059b-b282-4e9d-9c85-9630b5831df3",
   "metadata": {},
   "outputs": [
    {
     "name": "stdout",
     "output_type": "stream",
     "text": [
      "True\n"
     ]
    }
   ],
   "source": [
    "chapters_formatted = chapters[\"data\"]\n",
    "chapters_formatted = list(filter(lambda x: x[\"attributes\"][\"translatedLanguage\"] == \"en\", chapters_formatted))\n",
    "chapters_formatted = list(sorted(chapters_formatted, key = lambda x: float(x[\"attributes\"][\"chapter\"])))\n",
    "print(write_json(file_name = \"get_chapters_response_formatted.txt\", content = chapters_formatted))\n"
   ]
  },
  {
   "cell_type": "markdown",
   "id": "d2b19d33-7af8-432b-a648-53ea22cbe9aa",
   "metadata": {},
   "source": [
    "### Check for missing chapters"
   ]
  },
  {
   "cell_type": "code",
   "execution_count": 6,
   "id": "4372c965-15d0-49de-897a-28f696b4f31d",
   "metadata": {},
   "outputs": [
    {
     "name": "stdout",
     "output_type": "stream",
     "text": [
      "[]\n",
      "0\n"
     ]
    }
   ],
   "source": [
    "chapter_num:set = []\n",
    "for chapter in chapters_formatted:\n",
    "    chapter_num.append(float(chapter[\"attributes\"][\"chapter\"]))\n",
    "\n",
    "full_range = set(range(int(min(chapter_num)), int(max(chapter_num)) + 1))\n",
    "missing = sorted(full_range - set(chapter_num))\n",
    "\n",
    "print(missing)\n",
    "print(len(missing))"
   ]
  },
  {
   "cell_type": "markdown",
   "id": "e793fee0-4f1c-4e4e-bd52-21bca456d7c2",
   "metadata": {
    "jp-MarkdownHeadingCollapsed": true
   },
   "source": [
    "## Downloading"
   ]
  },
  {
   "cell_type": "code",
   "execution_count": 7,
   "id": "c1aa59e8-0c78-4cf8-a4ac-1a14b33e097e",
   "metadata": {},
   "outputs": [
    {
     "name": "stdout",
     "output_type": "stream",
     "text": [
      "function - success - get_chapter_pannels()\n",
      "True\n"
     ]
    }
   ],
   "source": [
    "def get_chapter_pannels(chapter_id:str = \"template-id\")->bool:\n",
    "    base_url = \"https://api.mangadex.org\"\n",
    "\n",
    "    response:json = requests.get(\n",
    "        url = f\"{base_url}/at-home/server/{chapter_id}\"\n",
    "    ).json()\n",
    "\n",
    "    if response['result'] == \"ok\":\n",
    "        print(\"function - success - get_chapter_pannels()\")\n",
    "    else:\n",
    "        print(\"function - fail - get_chapter_pannels()\")\n",
    "\n",
    "    return response\n",
    "\n",
    "random_chapter_for_testing = 42\n",
    "chapter_response:list = get_chapter_pannels(chapters_formatted[random_chapter_for_testing][\"id\"])\n",
    "print(write_json(file_name = \"get_chapter_pannels.txt\", content = chapter_response))"
   ]
  },
  {
   "cell_type": "markdown",
   "id": "019b2232-bfba-4802-b53b-cf15fb98cd60",
   "metadata": {},
   "source": [
    "### Now we extract the download ready image links from the response \n",
    "using this format:<br>\n",
    "[baseUrl]/[quality]/[chapterHash]/[filename]"
   ]
  },
  {
   "cell_type": "code",
   "execution_count": 8,
   "id": "11db90c9-ac4a-4d29-9365-8092404fae72",
   "metadata": {},
   "outputs": [
    {
     "name": "stdout",
     "output_type": "stream",
     "text": [
      "True\n"
     ]
    }
   ],
   "source": [
    "image_links:list = []\n",
    "baseUrl:str = chapter_response['baseUrl']\n",
    "quality:str = \"data\"\n",
    "chapterHash:str = chapter_response['chapter']['hash']\n",
    "for file_name in chapter_response[\"chapter\"][\"data\"]:\n",
    "    image_links.append(f\"{baseUrl}/{quality}/{chapterHash}/{file_name}\")\n",
    "\n",
    "print(write_json(file_name = \"pannel_links.txt\", content = image_links))"
   ]
  },
  {
   "cell_type": "markdown",
   "id": "947f9e61-823a-45ba-a28a-a8ad888b0ad6",
   "metadata": {},
   "source": [
    "### Now we make a download function and test it with one of the links"
   ]
  },
  {
   "cell_type": "code",
   "execution_count": 13,
   "id": "4ea6bbcd-378b-426c-8453-e62f66d6088c",
   "metadata": {},
   "outputs": [],
   "source": [
    "def download_img(\n",
    "\t\turl:str = \"https://cmdxd98sb0x3yprd.mangadex.network/data/c4db4703e60ba5e812b9dca733284c81/4-20dcc4e997f9762f47292c68a26d6f3165ec9ff66dd41899a322d5a5afd876c7.png\", \n",
    "\t\tfile_name:str = \"a.png\"\n",
    "\t) -> None:\n",
    "\tpath:str = \"DOWNLOADS/\"\n",
    "\tif(os.path.exists(path) == False):\n",
    "\t\tos.makedirs(path)\n",
    "\n",
    "\tpath += file_name\n",
    "\n",
    "\ttry:\n",
    "\t\tresponse:requests.Response = requests.get(\n",
    "            url, stream=True\n",
    "        )\n",
    "\t\tresponse.raise_for_status()  # Raise an exception for error responses\n",
    "\n",
    "\t\twith open(path, 'wb') as f:\n",
    "\t\t\tfor chunk in response.iter_content(chunk_size=8192):\n",
    "\t\t\t\tif chunk:  # Filter out keep-alive new chunks\n",
    "\t\t\t\t\tf.write(chunk)\n",
    "\texcept Exception as e:\n",
    "\t\tprint(e)\n",
    "\telse:\n",
    "\t    print(\"Image downloaded successfully!\")"
   ]
  },
  {
   "cell_type": "code",
   "execution_count": 14,
   "id": "23bd512f-9cad-45fd-9116-15b786481de2",
   "metadata": {},
   "outputs": [
    {
     "name": "stdout",
     "output_type": "stream",
     "text": [
      "Image downloaded successfully!\n"
     ]
    }
   ],
   "source": [
    "download_img(url = image_links[3], file_name=\"test.jpg\")"
   ]
  },
  {
   "cell_type": "code",
   "execution_count": null,
   "id": "ed1b7a17-93e0-47a7-a4d4-7bf4bd65f47b",
   "metadata": {},
   "outputs": [],
   "source": []
  }
 ],
 "metadata": {
  "kernelspec": {
   "display_name": "Python 3 (ipykernel)",
   "language": "python",
   "name": "python3"
  },
  "language_info": {
   "codemirror_mode": {
    "name": "ipython",
    "version": 3
   },
   "file_extension": ".py",
   "mimetype": "text/x-python",
   "name": "python",
   "nbconvert_exporter": "python",
   "pygments_lexer": "ipython3",
   "version": "3.11.2"
  }
 },
 "nbformat": 4,
 "nbformat_minor": 5
}
